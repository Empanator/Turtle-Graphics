{
 "cells": [
  {
   "cell_type": "markdown",
   "metadata": {},
   "source": [
    "***Color manual***\n",
    "\n",
    "<div class=\"alert alert-block alert-success\">\n",
    "<b>Green - Libraries</b>\n",
    "</div>\n",
    "\n",
    "<div class=\"alert alert-block alert-info\">\n",
    "<b>Blue - Information</b>\n",
    "</div>\n",
    "\n",
    "<div class=\"alert alert-block alert-danger\">\n",
    "<b>Red - Problems</b>\n",
    "</div>\n",
    "\n",
    "***"
   ]
  },
  {
   "cell_type": "markdown",
   "metadata": {},
   "source": [
    "<div class=\"alert alert-block alert-success\">\n",
    "<b>Imported library</b>\n",
    "</div>"
   ]
  },
  {
   "cell_type": "code",
   "execution_count": null,
   "metadata": {},
   "outputs": [],
   "source": [
    "import turtle"
   ]
  },
  {
   "cell_type": "markdown",
   "metadata": {},
   "source": [
    "<div class=\"alert alert-block alert-info\">\n",
    "<b>Koch curve algorithm</b>\n",
    "</div>"
   ]
  },
  {
   "cell_type": "code",
   "execution_count": null,
   "metadata": {},
   "outputs": [],
   "source": [
    "def koch(length, d):\n",
    "    if d == 0:\n",
    "        turtle.forward(length)\n",
    "    else:\n",
    "        length = length / 3\n",
    "        d = d - 1\n",
    "        koch(length, d)\n",
    "        turtle.right(60)\n",
    "        koch(length, d)\n",
    "        turtle.left(120)\n",
    "        koch(length, d)\n",
    "        turtle.right(60)\n",
    "        koch(length, d)"
   ]
  },
  {
   "cell_type": "markdown",
   "metadata": {},
   "source": [
    "<div class=\"alert alert-block alert-info\">\n",
    "<b>Running turtle graphics</b>\n",
    "</div>"
   ]
  },
  {
   "cell_type": "code",
   "execution_count": null,
   "metadata": {},
   "outputs": [],
   "source": [
    "turtle.reset()\n",
    "rainbow = ['red', 'green', 'yellow']\n",
    "colors = rainbow\n",
    "turtle.bgcolor('black') \n",
    "turtle.speed(11)\n",
    "for x in range(3):\n",
    "    turtle.pencolor(colors[x%7])\n",
    "    koch(200, 3)\n",
    "    turtle.left(120)\n",
    "    turtle.update()\n",
    "    \n",
    "#The done object is needed to kill the program without using task manager\n",
    "turtle.done()\n",
    "\n",
    "#The update object is needed because without there will be a need to run the code two times\n",
    "turtle.update()"
   ]
  }
 ],
 "metadata": {
  "kernelspec": {
   "display_name": "Python 3",
   "language": "python",
   "name": "python3"
  },
  "language_info": {
   "codemirror_mode": {
    "name": "ipython",
    "version": 3
   },
   "file_extension": ".py",
   "mimetype": "text/x-python",
   "name": "python",
   "nbconvert_exporter": "python",
   "pygments_lexer": "ipython3",
   "version": "3.7.7"
  }
 },
 "nbformat": 4,
 "nbformat_minor": 4
}
